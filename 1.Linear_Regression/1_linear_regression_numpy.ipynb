{
 "cells": [
  {
   "cell_type": "markdown",
   "metadata": {
    "id": "1RQZzRUtgLOi"
   },
   "source": [
    "# Linear Regression with numpy, pandas, matplotlib\n",
    "This code is all about linear regression which is formed like an linear euqation graph.\n",
    "\n",
    "This code is composed of three python libraries to analyze the data structure and use linear regression."
   ]
  },
  {
   "cell_type": "markdown",
   "metadata": {
    "id": "N9ngrui03qbX"
   },
   "source": [
    "### Import header file"
   ]
  },
  {
   "cell_type": "code",
   "execution_count": null,
   "metadata": {
    "id": "wFQF4xkz20cS"
   },
   "outputs": [],
   "source": [
    "from google.colab import drive\n",
    "import pandas as pd\n",
    "import numpy as np"
   ]
  },
  {
   "cell_type": "markdown",
   "metadata": {
    "id": "vCYSUuce3yEW"
   },
   "source": [
    "### Mount data which exited in Google dive to colab"
   ]
  },
  {
   "cell_type": "code",
   "execution_count": null,
   "metadata": {
    "id": "LXPmJKsw3ntO"
   },
   "outputs": [],
   "source": [
    "drive.mount('/content/drive')"
   ]
  },
  {
   "cell_type": "code",
   "execution_count": null,
   "metadata": {
    "id": "LUCnM9tU4KWe"
   },
   "outputs": [],
   "source": [
    "filename = '/content/drive/MyDrive/AI/1.Linear_Regression/ex1data1.txt'\n",
    "df = pd.read_csv(filename, header = None)\n",
    "df.head()"
   ]
  },
  {
   "cell_type": "markdown",
   "metadata": {
    "id": "sykbsXoP4jZI"
   },
   "source": [
    "### Function to be used"
   ]
  },
  {
   "cell_type": "markdown",
   "metadata": {
    "id": "EFlL9QJqLwuD"
   },
   "source": [
    "Establish hypothesis (y= ax+b)"
   ]
  },
  {
   "cell_type": "code",
   "execution_count": null,
   "metadata": {
    "id": "PK3GAK-x4lh_"
   },
   "outputs": [],
   "source": [
    "def hypothesis(theta, X):\n",
    "    return theta[0] + theta[1]*X"
   ]
  },
  {
   "cell_type": "markdown",
   "metadata": {
    "id": "t94KXo-hLtrZ"
   },
   "source": [
    "Calculate loss"
   ]
  },
  {
   "cell_type": "code",
   "execution_count": null,
   "metadata": {
    "id": "RXMS4QqR4ufD"
   },
   "outputs": [],
   "source": [
    "def cost_calc(m,theta, X, y):\n",
    "    return 1/(2*m) * np.sum((hypothesis(theta, X) - y)**2)"
   ]
  },
  {
   "cell_type": "markdown",
   "metadata": {
    "id": "7mqmg1uZMFZo"
   },
   "source": [
    "Use gradient descent to minimize the loss between inference and Y"
   ]
  },
  {
   "cell_type": "code",
   "execution_count": null,
   "metadata": {
    "id": "ZK59PSuX5R0G"
   },
   "outputs": [],
   "source": [
    "m = len(df)\n",
    "def gradient_descent(theta, X, y, epoch, alpha, m):\n",
    "    cost = []\n",
    "    i = 0\n",
    "    while i < epoch:\n",
    "        hypo = hypothesis(theta, X)\n",
    "        theta[0] -= alpha*(sum(hypo-y)/m)\n",
    "        theta[1] -=(alpha * np.sum((hypo-y)*X))/m \n",
    "        cost.append(cost_calc(m, theta, X, y))\n",
    "        i += 1\n",
    "    return theta, cost"
   ]
  },
  {
   "cell_type": "markdown",
   "metadata": {
    "id": "AnbZPfdRMlCK"
   },
   "source": [
    "---"
   ]
  },
  {
   "cell_type": "markdown",
   "metadata": {
    "id": "_er2hq5FDTSt"
   },
   "source": [
    "In an upper code, it update parameters(weight, bias) by using gradient descent.\n",
    "\n",
    "Gradient descent is a way to minimize the loss(MSE) through partial derivative with regard to weight, bias, respectively.\n",
    "\n",
    "It is important to memorize that dataframe can support element-wise product.\n",
    "\n",
    "\n",
    "\n"
   ]
  },
  {
   "cell_type": "markdown",
   "metadata": {
    "id": "s8ioewZpMVpn"
   },
   "source": [
    "---"
   ]
  },
  {
   "cell_type": "markdown",
   "metadata": {
    "id": "q4q484GyMa0_"
   },
   "source": [
    "Total forwarding function"
   ]
  },
  {
   "cell_type": "code",
   "execution_count": null,
   "metadata": {
    "id": "uV5EfcuK63fo"
   },
   "outputs": [],
   "source": [
    "def predict(theta, X, y, epoch, alpha):\n",
    "    theta, cost = gradient_descent(theta, X, y, epoch, alpha, m)\n",
    "    return hypothesis(theta, X), cost, theta"
   ]
  },
  {
   "cell_type": "code",
   "execution_count": null,
   "metadata": {
    "id": "1L38FHpn7NQB"
   },
   "outputs": [],
   "source": [
    "print(df[0])"
   ]
  },
  {
   "cell_type": "markdown",
   "metadata": {
    "id": "U5atzZUiN3fu"
   },
   "source": [
    "In Main..."
   ]
  },
  {
   "cell_type": "code",
   "execution_count": null,
   "metadata": {
    "id": "A8SDXsUq7FEf"
   },
   "outputs": [],
   "source": [
    "theta = [0,0]\n",
    "y_predict, cost, theta = predict(theta, df[0], df[1], 2000, 0.01)"
   ]
  },
  {
   "cell_type": "markdown",
   "metadata": {
    "id": "BPXsSwfOOHij"
   },
   "source": [
    "### Result"
   ]
  },
  {
   "cell_type": "markdown",
   "metadata": {
    "id": "K1oqHm_YN_Or"
   },
   "source": [
    "A result of parameters(weight and bias)"
   ]
  },
  {
   "cell_type": "code",
   "execution_count": null,
   "metadata": {
    "id": "tcyLa00lFqhU"
   },
   "outputs": [],
   "source": [
    "theta"
   ]
  },
  {
   "cell_type": "code",
   "execution_count": null,
   "metadata": {
    "id": "tn_nQUaKHDl3"
   },
   "outputs": [],
   "source": [
    "%matplotlib inline\n",
    "import matplotlib.pyplot as plt\n",
    "plt.figure()\n",
    "plt.scatter(df[0], df[1], label = 'Original y')\n",
    "plt.scatter(df[0], y_predict, label = 'predicted y')\n",
    "plt.legend(loc = \"upper left\")\n",
    "plt.xlabel(\"input feature\")\n",
    "plt.ylabel(\"Original and Predicted Output\")\n",
    "plt.show()"
   ]
  },
  {
   "cell_type": "code",
   "execution_count": null,
   "metadata": {
    "id": "oQEx-v7bHVMq"
   },
   "outputs": [],
   "source": [
    "plt.figure()\n",
    "plt.scatter(range(0, len(cost)), cost)\n",
    "plt.show()"
   ]
  },
  {
   "cell_type": "code",
   "execution_count": null,
   "metadata": {
    "id": "9eXp1_--P73C"
   },
   "outputs": [],
   "source": [
    "print(type(df[0]))\n",
    "print(type(df))"
   ]
  },
  {
   "cell_type": "markdown",
   "metadata": {
    "id": "VjlGxKf1d4Iw"
   },
   "source": [
    "### Practice pandas series and dataframe."
   ]
  },
  {
   "cell_type": "code",
   "execution_count": null,
   "metadata": {
    "id": "vk-sCh-VQAt9"
   },
   "outputs": [],
   "source": [
    "data = [1,2,3,4,5]\n",
    "data = pd.Series(data, index = [0,1,2,3,4])\n",
    "print(data)\n",
    "print(type(data))\n",
    "print(3*data)"
   ]
  },
  {
   "cell_type": "code",
   "execution_count": null,
   "metadata": {
    "id": "mG6x6l1Dd-Dv"
   },
   "outputs": [],
   "source": [
    "data1 = pd.DataFrame([[3,4],[2,2]], index = [0,100], columns=[10,1000])\n",
    "print(data1)\n",
    "print(type(data1))\n",
    "print(data1*3)"
   ]
  }
 ],
 "metadata": {
  "colab": {
   "authorship_tag": "ABX9TyMVx/095/DjLKgIaBP4Xr0/",
   "collapsed_sections": [],
   "name": "1_linear_regression_numpy",
   "private_outputs": true,
   "provenance": []
  },
  "kernelspec": {
   "display_name": "Python 3",
   "language": "python",
   "name": "python3"
  },
  "language_info": {
   "codemirror_mode": {
    "name": "ipython",
    "version": 3
   },
   "file_extension": ".py",
   "mimetype": "text/x-python",
   "name": "python",
   "nbconvert_exporter": "python",
   "pygments_lexer": "ipython3",
   "version": "3.8.3"
  }
 },
 "nbformat": 4,
 "nbformat_minor": 1
}
