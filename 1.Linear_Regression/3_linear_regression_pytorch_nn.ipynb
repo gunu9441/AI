{
 "cells": [
  {
   "cell_type": "markdown",
   "metadata": {
    "id": "hxGwhEC6HxP9"
   },
   "source": [
    "# Linear Regression with pytorch using torch.nn\n",
    "This code is all about linear regression which is formed like a linear euqation graph using torch.nn library.\n",
    "\n",
    "I focused on the structure of this code and try to memorize this sample code below."
   ]
  },
  {
   "cell_type": "code",
   "execution_count": 1,
   "metadata": {
    "id": "Rtg4eRUM2OWd"
   },
   "outputs": [],
   "source": [
    "import torch\n",
    "import torch.nn as nn\n",
    "import torch.nn.functional as F\n",
    "import torch.optim as optim"
   ]
  },
  {
   "cell_type": "markdown",
   "metadata": {
    "id": "U4K8CLO7IbLl"
   },
   "source": [
    "To see same results at every time, use torch.manual_seed(num)"
   ]
  },
  {
   "cell_type": "code",
   "execution_count": 2,
   "metadata": {
    "id": "PDrOVjbZ3jb4"
   },
   "outputs": [
    {
     "data": {
      "text/plain": [
       "<torch._C.Generator at 0x1740264caf0>"
      ]
     },
     "execution_count": 2,
     "metadata": {},
     "output_type": "execute_result"
    }
   ],
   "source": [
    "torch.manual_seed(1)"
   ]
  },
  {
   "cell_type": "markdown",
   "metadata": {
    "id": "NsT5YfnzHsHI"
   },
   "source": [
    "### Data"
   ]
  },
  {
   "cell_type": "code",
   "execution_count": 3,
   "metadata": {
    "id": "OStakTOQ3sf8"
   },
   "outputs": [],
   "source": [
    "x_train = torch.FloatTensor([[1],[2],[3]])\n",
    "y_train = torch.FloatTensor([[2],[4],[6]])"
   ]
  },
  {
   "cell_type": "code",
   "execution_count": 4,
   "metadata": {
    "id": "LZynay5k375S"
   },
   "outputs": [
    {
     "name": "stdout",
     "output_type": "stream",
     "text": [
      "tensor([[1.],\n",
      "        [2.],\n",
      "        [3.]])\n",
      "torch.Size([3, 1])\n",
      "tensor([[2.],\n",
      "        [4.],\n",
      "        [6.]])\n",
      "torch.Size([3, 1])\n"
     ]
    }
   ],
   "source": [
    "print(x_train)\n",
    "print(x_train.shape)\n",
    "print(y_train)\n",
    "print(y_train.shape)"
   ]
  },
  {
   "cell_type": "markdown",
   "metadata": {
    "id": "4HTLcb-EIsnF"
   },
   "source": [
    "### Model Initilization"
   ]
  },
  {
   "cell_type": "markdown",
   "metadata": {},
   "source": [
    "Before we used...\n",
    "\n",
    "`W = torch.zeros(1, requires_grad= True)`\n",
    "\n",
    "`b = torch.zeros(1, requires_grad= True)`\n",
    "\n",
    "In this time, we will use torch.nn.Linear to make parameters."
   ]
  },
  {
   "cell_type": "code",
   "execution_count": 5,
   "metadata": {
    "id": "Fus2VIJJ4QqW"
   },
   "outputs": [
    {
     "name": "stdout",
     "output_type": "stream",
     "text": [
      "1\n",
      "1\n",
      "[Parameter containing:\n",
      "tensor([[0.5153]], requires_grad=True), Parameter containing:\n",
      "tensor([-0.4414], requires_grad=True)]\n"
     ]
    }
   ],
   "source": [
    "model = nn.Linear(x_train.shape[1], y_train.shape[1])\n",
    "#model = nn,Linear(1,1)\n",
    "print(x_train.shape[1])\n",
    "print(y_train.shape[1])\n",
    "print(list(model.parameters()))"
   ]
  },
  {
   "cell_type": "markdown",
   "metadata": {},
   "source": [
    "The first element in `model.parameters()` corresponds to weight and the second element corresponds to bias, respectively."
   ]
  },
  {
   "cell_type": "markdown",
   "metadata": {
    "id": "eVcBbMlwI2Eh"
   },
   "source": [
    "### Optimizer"
   ]
  },
  {
   "cell_type": "markdown",
   "metadata": {},
   "source": [
    "\n",
    "Before we used...\n",
    "\n",
    "`optimizer = optim.SGD([W,b], lr = 0.01)`\n",
    "\n",
    "In this time, we will use 'models.parameters' to get values of parameters."
   ]
  },
  {
   "cell_type": "code",
   "execution_count": 6,
   "metadata": {
    "id": "Hzd5JLTP535h"
   },
   "outputs": [],
   "source": [
    "optimizer = optim.SGD(model.parameters(),lr=0.01)"
   ]
  },
  {
   "cell_type": "markdown",
   "metadata": {
    "id": "MG0wgqH_I6fK"
   },
   "source": [
    "### Training"
   ]
  },
  {
   "cell_type": "markdown",
   "metadata": {
    "id": "B3CB9AerI_A9"
   },
   "source": [
    "select epochs which is used in training step.\n",
    "\n",
    "`hypothesis = x_train * W + b` \n",
    "\n",
    "`cost = torch.mean((hypothesis - y_train)**2)`\n",
    "\n",
    "Above two codes will be replaced with below codes in `for` statement."
   ]
  },
  {
   "cell_type": "code",
   "execution_count": 7,
   "metadata": {
    "id": "YiHRN8st57Wg"
   },
   "outputs": [],
   "source": [
    "nb_epochs = 1999"
   ]
  },
  {
   "cell_type": "code",
   "execution_count": 8,
   "metadata": {
    "id": "FVn2ZW0H5-II"
   },
   "outputs": [
    {
     "name": "stdout",
     "output_type": "stream",
     "text": [
      "Epoch    0/1999 Cost: 13.103541\n",
      "Epoch  100/1999 Cost: 0.002791\n",
      "Epoch  200/1999 Cost: 0.001724\n",
      "Epoch  300/1999 Cost: 0.001066\n",
      "Epoch  400/1999 Cost: 0.000658\n",
      "Epoch  500/1999 Cost: 0.000407\n",
      "Epoch  600/1999 Cost: 0.000251\n",
      "Epoch  700/1999 Cost: 0.000155\n",
      "Epoch  800/1999 Cost: 0.000096\n",
      "Epoch  900/1999 Cost: 0.000059\n",
      "Epoch 1000/1999 Cost: 0.000037\n",
      "Epoch 1100/1999 Cost: 0.000023\n",
      "Epoch 1200/1999 Cost: 0.000014\n",
      "Epoch 1300/1999 Cost: 0.000009\n",
      "Epoch 1400/1999 Cost: 0.000005\n",
      "Epoch 1500/1999 Cost: 0.000003\n",
      "Epoch 1600/1999 Cost: 0.000002\n",
      "Epoch 1700/1999 Cost: 0.000001\n",
      "Epoch 1800/1999 Cost: 0.000001\n",
      "Epoch 1900/1999 Cost: 0.000000\n"
     ]
    }
   ],
   "source": [
    "for epoch in range(nb_epochs + 1):\n",
    "    \n",
    "    hypothesis = model(x_train)\n",
    "    cost = F.mse_loss(hypothesis, y_train)\n",
    "\n",
    "    optimizer.zero_grad()\n",
    "    cost.backward()\n",
    "    optimizer.step()\n",
    "\n",
    "    if epoch % 100 ==0:\n",
    "        print('Epoch {:4d}/{} Cost: {:.6f}'.format(epoch, nb_epochs, cost.item()))"
   ]
  },
  {
   "cell_type": "markdown",
   "metadata": {
    "id": "FMJGJ7sSHU0X"
   },
   "source": [
    "## Total Code"
   ]
  },
  {
   "cell_type": "code",
   "execution_count": 9,
   "metadata": {
    "id": "-2d2WqkJF9BJ"
   },
   "outputs": [
    {
     "name": "stdout",
     "output_type": "stream",
     "text": [
      "Epoch:    0/1999, Cost: 18.562185\n",
      "Epoch:  100/1999, Cost: 0.128051\n",
      "Epoch:  200/1999, Cost: 0.079128\n",
      "Epoch:  300/1999, Cost: 0.048896\n",
      "Epoch:  400/1999, Cost: 0.030215\n",
      "Epoch:  500/1999, Cost: 0.018671\n",
      "Epoch:  600/1999, Cost: 0.011538\n",
      "Epoch:  700/1999, Cost: 0.007129\n",
      "Epoch:  800/1999, Cost: 0.004406\n",
      "Epoch:  900/1999, Cost: 0.002722\n",
      "Epoch: 1000/1999, Cost: 0.001682\n",
      "Epoch: 1100/1999, Cost: 0.001040\n",
      "Epoch: 1200/1999, Cost: 0.000642\n",
      "Epoch: 1300/1999, Cost: 0.000397\n",
      "Epoch: 1400/1999, Cost: 0.000245\n",
      "Epoch: 1500/1999, Cost: 0.000152\n",
      "Epoch: 1600/1999, Cost: 0.000094\n",
      "Epoch: 1700/1999, Cost: 0.000058\n",
      "Epoch: 1800/1999, Cost: 0.000036\n",
      "Epoch: 1900/1999, Cost: 0.000022\n"
     ]
    }
   ],
   "source": [
    "import torch\n",
    "import torch.nn as nn\n",
    "import torch.nn.functional as F\n",
    "import torch.optim as optim\n",
    "\n",
    "x_train = torch.FloatTensor([[1],[2],[3]])\n",
    "y_train = torch.FloatTensor([[2],[4],[6]])\n",
    "\n",
    "model = nn.Linear(x_train.shape[1], y_train.shape[1])\n",
    "#W = torch.zeros(1, requires_grad = True)\n",
    "#b = torch.zeros(1, requires_grad = True)\n",
    "\n",
    "optimizer = optim.SGD(model.parameters(), lr=1e-2)\n",
    "#optimizer = optim.SGD([W,b], lr=0.01)\n",
    "\n",
    "nb_epochs = 1999\n",
    "for epoch in range(nb_epochs+1):\n",
    "    hypothesis = model(x_train)\n",
    "    #hypothesis = W*x_train + b\n",
    "    cost = F.mse_loss(hypothesis, y_train)\n",
    "    #cost = torch.mean((hypothesis - y_train)**2)\n",
    "    \n",
    "    optimizer.zero_grad()\n",
    "    cost.backward()\n",
    "    optimizer.step()\n",
    "    if epoch % 100 ==0:\n",
    "        print('Epoch: {:4d}/{}, Cost: {:.6f}'.format(epoch,nb_epochs,cost.item()))"
   ]
  }
 ],
 "metadata": {
  "accelerator": "GPU",
  "colab": {
   "authorship_tag": "ABX9TyNEnbCHzpI1PhwrEkxmOswp",
   "collapsed_sections": [],
   "name": "linear_regression.ipynb",
   "private_outputs": true,
   "provenance": []
  },
  "kernelspec": {
   "display_name": "Python 3",
   "language": "python",
   "name": "python3"
  },
  "language_info": {
   "codemirror_mode": {
    "name": "ipython",
    "version": 3
   },
   "file_extension": ".py",
   "mimetype": "text/x-python",
   "name": "python",
   "nbconvert_exporter": "python",
   "pygments_lexer": "ipython3",
   "version": "3.8.3"
  }
 },
 "nbformat": 4,
 "nbformat_minor": 1
}
