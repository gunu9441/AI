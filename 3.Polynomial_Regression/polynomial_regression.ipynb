{
 "cells": [
  {
   "cell_type": "markdown",
   "metadata": {
    "id": "HdzVgjvhts2D"
   },
   "source": [
    "# Polynomial Regression with numpy, pandas, matplotlib\n",
    "This code is all about polynomial regression.\n",
    "\n",
    "This code is composed of three python libraries to analyze the data structure and use polynomial regression."
   ]
  },
  {
   "cell_type": "markdown",
   "metadata": {
    "id": "8WbB3bdEt3d6"
   },
   "source": [
    "### Import header file"
   ]
  },
  {
   "cell_type": "code",
   "execution_count": null,
   "metadata": {
    "id": "BfnVHJshtRu0"
   },
   "outputs": [],
   "source": [
    "from google.colab import drive\n",
    "import pandas as pd\n",
    "import numpy as np"
   ]
  },
  {
   "cell_type": "markdown",
   "metadata": {
    "id": "jQxLZuTWto1a"
   },
   "source": [
    "### Mount data which exits in Google dive to colab"
   ]
  },
  {
   "cell_type": "code",
   "execution_count": null,
   "metadata": {
    "id": "Yrc6ptM1uC1k"
   },
   "outputs": [],
   "source": [
    "drive.mount('/content/drive')"
   ]
  },
  {
   "cell_type": "code",
   "execution_count": null,
   "metadata": {
    "id": "PBGMSY15uP3M"
   },
   "outputs": [],
   "source": [
    "file_name = '/content/drive/MyDrive/AI/3.Polynomial_Regression/Position_Salaries.csv'\n",
    "df = pd.read_csv(file_name)\n",
    "df.head()"
   ]
  },
  {
   "cell_type": "markdown",
   "metadata": {
    "id": "CN7H0A8vlUvd"
   },
   "source": [
    "### Preprocessing the dataframe"
   ]
  },
  {
   "cell_type": "markdown",
   "metadata": {
    "id": "V5WuA6IplarB"
   },
   "source": [
    "first, add the bias with constant value '1'\n",
    "\n",
    "second, delete the 'Position' column and 'Salary' column because 'Position' column is not necessary for gradient descent. \n",
    "different rows can divide each row which can distinguish each job. Also, 'Salary' column is a label for each training data. \n",
    "\n",
    "third, add the columns which represent squared values, cubic vlaues, and so on.\n",
    "\n",
    "fourth, normalize the value by using dividing each value with max value in  each column."
   ]
  },
  {
   "cell_type": "code",
   "execution_count": null,
   "metadata": {
    "id": "TUwJQhdVup_9"
   },
   "outputs": [],
   "source": [
    "df = pd.concat([pd.Series(1, index = df.index, name = '00'), df], axis = 1)\n",
    "df.head()"
   ]
  },
  {
   "cell_type": "code",
   "execution_count": null,
   "metadata": {
    "id": "Yt2oB44cvKFP"
   },
   "outputs": [],
   "source": [
    "df = df.drop('Position', axis = 1)"
   ]
  },
  {
   "cell_type": "code",
   "execution_count": null,
   "metadata": {
    "id": "-qAOEAgTvZy3"
   },
   "outputs": [],
   "source": [
    "y = df['Salary']\n",
    "x = df.drop('Salary', axis = 1)\n",
    "x.head()"
   ]
  },
  {
   "cell_type": "code",
   "execution_count": null,
   "metadata": {
    "id": "gH4O7Ygiv4zD"
   },
   "outputs": [],
   "source": [
    "x['Level1'] = x['Level']**2\n",
    "x['Level2'] = x['Level']**3\n",
    "x.head()"
   ]
  },
  {
   "cell_type": "code",
   "execution_count": null,
   "metadata": {
    "id": "aZSju-H9w31g"
   },
   "outputs": [],
   "source": [
    "m = len(x)"
   ]
  },
  {
   "cell_type": "markdown",
   "metadata": {
    "id": "kCd_rZJTw9ae"
   },
   "source": [
    "Normalize the training set"
   ]
  },
  {
   "cell_type": "code",
   "execution_count": null,
   "metadata": {
    "id": "IBubCdi0xO_d"
   },
   "outputs": [],
   "source": [
    "x = x/x.max()"
   ]
  },
  {
   "cell_type": "markdown",
   "metadata": {
    "id": "GG271qcuxoCK"
   },
   "source": [
    "### Training"
   ]
  },
  {
   "cell_type": "code",
   "execution_count": null,
   "metadata": {
    "id": "k5RQQhMJxFTa"
   },
   "outputs": [],
   "source": [
    "def hypothesis(x, theta):\n",
    "    y1 = theta * x\n",
    "    return np.sum(y1, axis=1)"
   ]
  },
  {
   "cell_type": "markdown",
   "metadata": {
    "id": "1YvhzH89x5Gv"
   },
   "source": [
    "theta           : (4,)\n",
    "\n",
    "x(dataframe)    : (10, 4)"
   ]
  },
  {
   "cell_type": "code",
   "execution_count": null,
   "metadata": {
    "id": "1yNhATCnyW3w"
   },
   "outputs": [],
   "source": [
    "def cost(x, y, theta):\n",
    "    y1 = hypothesis(x, theta)\n",
    "    return sum(np.sqrt((y1-y)**2))/(2*m)"
   ]
  },
  {
   "cell_type": "code",
   "execution_count": null,
   "metadata": {
    "id": "Z0uA2wSG4WZy"
   },
   "outputs": [],
   "source": [
    "def gradientDescent(x, y, theta, alpha, epoch):\n",
    "    J=[]\n",
    "    k=0\n",
    "    print(x.shape)\n",
    "    print(theta.shape)\n",
    "    print(y.shape)\n",
    "    print(y)\n",
    "    while k < epoch: \n",
    "        y1 = hypothesis(x, theta)\n",
    "        for c in range(0, len(x.columns)):\n",
    "            theta[c] = theta[c] - alpha*sum((y1-y)*x.iloc[:,c])/m\n",
    "        j = cost(x,y,theta)\n",
    "        J.append(j)\n",
    "        k+=1\n",
    "    return J, theta"
   ]
  },
  {
   "cell_type": "code",
   "execution_count": null,
   "metadata": {
    "id": "r98Q69b047N1"
   },
   "outputs": [],
   "source": [
    "theta = np.array([0.0]*len(x.columns))\n",
    "J, theta = gradientDescent(x, y, theta, 0.05, 700)"
   ]
  },
  {
   "cell_type": "code",
   "execution_count": null,
   "metadata": {
    "id": "yggsbIO-5DTF"
   },
   "outputs": [],
   "source": [
    "y_hat = hypothesis(x, theta)"
   ]
  },
  {
   "cell_type": "code",
   "execution_count": null,
   "metadata": {
    "id": "k83ke0Zb5MEe"
   },
   "outputs": [],
   "source": [
    "%matplotlib inline\n",
    "import matplotlib.pyplot as plt\n",
    "plt.figure()\n",
    "plt.scatter(x=x['Level'],y= y, label='label')           \n",
    "plt.scatter(x=x['Level'], y=y_hat, label='prediction')\n",
    "plt.legend()\n",
    "plt.show()"
   ]
  },
  {
   "cell_type": "code",
   "execution_count": null,
   "metadata": {
    "id": "-LVPvwaj5euR"
   },
   "outputs": [],
   "source": [
    "plt.figure()\n",
    "plt.scatter(x=list(range(0, 700)), y=J)\n",
    "plt.show()"
   ]
  }
 ],
 "metadata": {
  "accelerator": "GPU",
  "colab": {
   "authorship_tag": "ABX9TyM5Fd0NJRMKVPPrr38w8muA",
   "collapsed_sections": [],
   "name": "polynomial_regression.ipynb",
   "private_outputs": true,
   "provenance": []
  },
  "kernelspec": {
   "display_name": "Python 3",
   "language": "python",
   "name": "python3"
  },
  "language_info": {
   "codemirror_mode": {
    "name": "ipython",
    "version": 3
   },
   "file_extension": ".py",
   "mimetype": "text/x-python",
   "name": "python",
   "nbconvert_exporter": "python",
   "pygments_lexer": "ipython3",
   "version": "3.8.3"
  }
 },
 "nbformat": 4,
 "nbformat_minor": 1
}
