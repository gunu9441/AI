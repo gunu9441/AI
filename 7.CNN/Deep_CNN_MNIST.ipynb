{
 "cells": [
  {
   "cell_type": "markdown",
   "metadata": {
    "id": "Rvrd3qTvIzd-"
   },
   "source": [
    "# Deep_CNN_MNIST\n",
    "This code below is all about CNN model to classify MNIST datasets. It is demonstrating a deep CNN model code simulation."
   ]
  },
  {
   "cell_type": "markdown",
   "metadata": {
    "id": "KXKYBklnI1K9"
   },
   "source": [
    "### Header"
   ]
  },
  {
   "cell_type": "code",
   "execution_count": 16,
   "metadata": {
    "executionInfo": {
     "elapsed": 381,
     "status": "ok",
     "timestamp": 1628231124675,
     "user": {
      "displayName": "남건우",
      "photoUrl": "",
      "userId": "18221977253473109697"
     },
     "user_tz": -540
    },
    "id": "rw7wi_FqJO0m"
   },
   "outputs": [],
   "source": [
    "import torch\n",
    "import torch.nn as nn\n",
    "import torch.optim as optim\n",
    "import torchvision.datasets as dsets\n",
    "import torchvision.transforms as transforms\n",
    "import torch.nn.init as init\n",
    "from torch.utils.data import DataLoader"
   ]
  },
  {
   "cell_type": "markdown",
   "metadata": {
    "id": "UEkrnC1sI3EL"
   },
   "source": [
    "### Select between 'cuda' or 'cpu'"
   ]
  },
  {
   "cell_type": "code",
   "execution_count": 17,
   "metadata": {
    "colab": {
     "base_uri": "https://localhost:8080/"
    },
    "executionInfo": {
     "elapsed": 7,
     "status": "ok",
     "timestamp": 1628231125049,
     "user": {
      "displayName": "남건우",
      "photoUrl": "",
      "userId": "18221977253473109697"
     },
     "user_tz": -540
    },
    "id": "B4XVVvQ2JwSZ",
    "outputId": "c019b15c-13f2-4862-8f92-6323b15c884f"
   },
   "outputs": [
    {
     "name": "stdout",
     "output_type": "stream",
     "text": [
      "device: cuda\n"
     ]
    }
   ],
   "source": [
    "device = 'cuda' if torch.cuda.is_available() else 'cpu'\n",
    "print('device: {}'.format(device))"
   ]
  },
  {
   "cell_type": "markdown",
   "metadata": {
    "id": "FnvtDCf8I8TX"
   },
   "source": [
    "### Give a random seed"
   ]
  },
  {
   "cell_type": "code",
   "execution_count": 18,
   "metadata": {
    "executionInfo": {
     "elapsed": 2,
     "status": "ok",
     "timestamp": 1628231125456,
     "user": {
      "displayName": "남건우",
      "photoUrl": "",
      "userId": "18221977253473109697"
     },
     "user_tz": -540
    },
    "id": "uc_SgzRqJ6_r"
   },
   "outputs": [],
   "source": [
    "torch.manual_seed(777)\n",
    "if device == 'cuda':\n",
    "    torch.cuda.manual_seed_all(777)"
   ]
  },
  {
   "cell_type": "markdown",
   "metadata": {
    "id": "tPZZ_zl2Lbmx"
   },
   "source": [
    "### Hyper parameters"
   ]
  },
  {
   "cell_type": "code",
   "execution_count": 19,
   "metadata": {
    "executionInfo": {
     "elapsed": 2,
     "status": "ok",
     "timestamp": 1628231125457,
     "user": {
      "displayName": "남건우",
      "photoUrl": "",
      "userId": "18221977253473109697"
     },
     "user_tz": -540
    },
    "id": "PWJs2EtTLdZ7"
   },
   "outputs": [],
   "source": [
    "batch_size = 100\n",
    "learning_rate = 1e-5\n",
    "training_epochs = 15"
   ]
  },
  {
   "cell_type": "markdown",
   "metadata": {
    "id": "-99lAFc5I-_k"
   },
   "source": [
    "### Dataset"
   ]
  },
  {
   "cell_type": "code",
   "execution_count": 20,
   "metadata": {
    "executionInfo": {
     "elapsed": 5,
     "status": "ok",
     "timestamp": 1628231125795,
     "user": {
      "displayName": "남건우",
      "photoUrl": "",
      "userId": "18221977253473109697"
     },
     "user_tz": -540
    },
    "id": "FTG0WtV7KJ9E"
   },
   "outputs": [],
   "source": [
    "MNIST_train = dsets.MNIST(root='MNIST_data/', train=True,  transform=transforms.ToTensor(), download=True)\n",
    "MNIST_test  = dsets.MNIST(root='MNIST_data/', train=False, transform=transforms.ToTensor(), download=True)\n",
    "\n",
    "dataloader = DataLoader(dataset=MNIST_train, batch_size=batch_size, shuffle=True, drop_last=True)"
   ]
  },
  {
   "cell_type": "code",
   "execution_count": 21,
   "metadata": {
    "colab": {
     "base_uri": "https://localhost:8080/"
    },
    "executionInfo": {
     "elapsed": 4,
     "status": "ok",
     "timestamp": 1628231125796,
     "user": {
      "displayName": "남건우",
      "photoUrl": "",
      "userId": "18221977253473109697"
     },
     "user_tz": -540
    },
    "id": "ESV7-NR1xBXk",
    "outputId": "d8d2f7f4-be38-4b95-d1d3-2dea2cf07a36"
   },
   "outputs": [
    {
     "name": "stdout",
     "output_type": "stream",
     "text": [
      "total batch(iteration): 600\n"
     ]
    }
   ],
   "source": [
    "iteration = len(dataloader)\n",
    "print('total batch(iteration): {}'.format(iteration))"
   ]
  },
  {
   "cell_type": "code",
   "execution_count": 22,
   "metadata": {
    "colab": {
     "base_uri": "https://localhost:8080/"
    },
    "executionInfo": {
     "elapsed": 14,
     "status": "ok",
     "timestamp": 1628231126070,
     "user": {
      "displayName": "남건우",
      "photoUrl": "",
      "userId": "18221977253473109697"
     },
     "user_tz": -540
    },
    "id": "6TDdadNxUieZ",
    "outputId": "dc97ba5d-8b7e-4fd7-efc7-25140b836f22"
   },
   "outputs": [
    {
     "name": "stdout",
     "output_type": "stream",
     "text": [
      "input data size:  torch.Size([60000, 28, 28])\n",
      "input label size:  torch.Size([60000])\n"
     ]
    },
    {
     "name": "stderr",
     "output_type": "stream",
     "text": [
      "/usr/local/lib/python3.7/dist-packages/torchvision/datasets/mnist.py:62: UserWarning: train_data has been renamed data\n",
      "  warnings.warn(\"train_data has been renamed data\")\n",
      "/usr/local/lib/python3.7/dist-packages/torchvision/datasets/mnist.py:52: UserWarning: train_labels has been renamed targets\n",
      "  warnings.warn(\"train_labels has been renamed targets\")\n"
     ]
    }
   ],
   "source": [
    "print('input data size: ',MNIST_train.train_data.shape)\n",
    "print('input label size: ',MNIST_train.train_labels.shape)"
   ]
  },
  {
   "cell_type": "markdown",
   "metadata": {
    "id": "yfGzvhryI_9m"
   },
   "source": [
    "### Model"
   ]
  },
  {
   "cell_type": "code",
   "execution_count": 23,
   "metadata": {
    "executionInfo": {
     "elapsed": 9,
     "status": "ok",
     "timestamp": 1628231126071,
     "user": {
      "displayName": "남건우",
      "photoUrl": "",
      "userId": "18221977253473109697"
     },
     "user_tz": -540
    },
    "id": "jYtyZ08hLjzL"
   },
   "outputs": [],
   "source": [
    "class CNN(nn.Module):\n",
    "    def __init__(self):\n",
    "        super().__init__()\n",
    "        self.keep_prob=0.5\n",
    "        \n",
    "        # image size = (?(60000), 1,28,28 )\n",
    "        # Conv2d    => (?(60000),32,28,28 )\n",
    "        # Pool      => (?(60000),32,14,14 )    \n",
    "        self.layer1 = nn.Sequential(\n",
    "            nn.Conv2d(1, 32, kernel_size=3, stride = 1, padding = 1),\n",
    "            nn.ReLU(),\n",
    "            nn.MaxPool2d(kernel_size=2, stride=2)\n",
    "        )\n",
    "        \n",
    "        # image size = (?(60000),32,14,14 )\n",
    "        # Conv2d    => (?(60000),64,14,14 )\n",
    "        # Pool      => (?(60000),64,7,7 )\n",
    "        self.layer2 = nn.Sequential(\n",
    "            nn.Conv2d(32, 64, kernel_size=3, stride=1, padding=1),\n",
    "            nn.ReLU(),\n",
    "            nn.MaxPool2d(kernel_size=2, stride=2)\n",
    "        )\n",
    "        \n",
    "        # image size = (?(60000),64,7,7 )\n",
    "        # Conv2d    => (?(60000),128,7,7 )\n",
    "        # Pool      => (?(60000),128,4,4 )\n",
    "        self.layer3 = nn.Sequential(\n",
    "            nn.Conv2d(64, 128, kernel_size=3, stride=1, padding=1),\n",
    "            nn.ReLU(),\n",
    "            nn.MaxPool2d(kernel_size=2,stride=2,padding=1)\n",
    "        )\n",
    "        \n",
    "        self.fc1 = nn.Linear(4*4*128, 625, bias = True)\n",
    "        self.fc2 = nn.Linear(625, 10, bias=True)\n",
    "        init.xavier_uniform_(self.fc1.weight)\n",
    "        init.xavier_uniform_(self.fc2.weight)\n",
    "\n",
    "        self.layer4 = nn.Sequential(\n",
    "            self.fc1,\n",
    "            nn.ReLU(),\n",
    "            torch.nn.Dropout(p=1-self.keep_prob)\n",
    "        )\n",
    "\n",
    "        self.layer5 = nn.Sequential(\n",
    "            self.fc2,\n",
    "            nn.ReLU(),\n",
    "        )\n",
    "\n",
    "    def forward(self, x):\n",
    "        out = self.layer1(x)\n",
    "        out = self.layer2(out)\n",
    "        out = self.layer3(out)\n",
    "        out = out.view(out.size(0),-1)\n",
    "        out = self.layer4(out)\n",
    "        out = self.layer5(out)\n",
    "        return out\n",
    "\n",
    "model = CNN().to(device)"
   ]
  },
  {
   "cell_type": "markdown",
   "metadata": {
    "id": "nko1sAfrJD5b"
   },
   "source": [
    "### Optimzer & Cost function"
   ]
  },
  {
   "cell_type": "code",
   "execution_count": 24,
   "metadata": {
    "executionInfo": {
     "elapsed": 2,
     "status": "ok",
     "timestamp": 1628231126444,
     "user": {
      "displayName": "남건우",
      "photoUrl": "",
      "userId": "18221977253473109697"
     },
     "user_tz": -540
    },
    "id": "mLUCvEabMMGE"
   },
   "outputs": [],
   "source": [
    "optimizer = optim.Adam(model.parameters(), lr=learning_rate)\n",
    "loss_fn = nn.CrossEntropyLoss().to(device)"
   ]
  },
  {
   "cell_type": "markdown",
   "metadata": {
    "id": "zB4jicYlJIWG"
   },
   "source": [
    "### Training"
   ]
  },
  {
   "cell_type": "code",
   "execution_count": null,
   "metadata": {
    "colab": {
     "base_uri": "https://localhost:8080/"
    },
    "id": "_vHaN4IeMeGY",
    "outputId": "464c494a-7ce5-483d-ef86-40d67d07605a"
   },
   "outputs": [
    {
     "name": "stdout",
     "output_type": "stream",
     "text": [
      "Epoch:    0/15, Cost: 1.85063\n"
     ]
    }
   ],
   "source": [
    "for epoch in range(training_epochs):\n",
    "    avg_cost = 0\n",
    "    for (X,Y) in dataloader:\n",
    "        X = X.to(device)\n",
    "        Y = Y.to(device)\n",
    "        \n",
    "        hypothesis = model(X)\n",
    "        cost = loss_fn(hypothesis, Y)\n",
    "\n",
    "        optimizer.zero_grad()\n",
    "        cost.backward()\n",
    "        optimizer.step()\n",
    "\n",
    "        avg_cost += cost / iteration\n",
    "    print('Epoch: {:4d}/{}, Cost: {:.5f}'.format(epoch, training_epochs, avg_cost))"
   ]
  },
  {
   "cell_type": "markdown",
   "metadata": {},
   "source": [
    "### Validation"
   ]
  },
  {
   "cell_type": "code",
   "execution_count": null,
   "metadata": {
    "id": "Etz5tGbDN1dR"
   },
   "outputs": [],
   "source": [
    "with torch.no_grad():\n",
    "    print(MNIST_test.test_data.size())\n",
    "    X_test = MNIST_test.test_data.view(len(MNIST_test),1,28,28).float().to(device)\n",
    "    print(MNIST_test.test_data.view(len(MNIST_test),1,28,28).size())\n",
    "    Y_test = MNIST_test.test_labels.to(device)\n",
    "\n",
    "    prediction = model(X_test)\n",
    "    correct_prediction = torch.argmax(prediction, dim=1) == Y_test\n",
    "    accuracy = correct_prediction.float().mean()\n",
    "    print('Accuracy: {:.7f}'.format(accuracy.item()))    "
   ]
  }
 ],
 "metadata": {
  "accelerator": "GPU",
  "colab": {
   "authorship_tag": "ABX9TyNEo8KW2wvxYZtJ7qnmuXEX",
   "collapsed_sections": [],
   "name": "Deep_CNN_MNIST",
   "provenance": []
  },
  "kernelspec": {
   "display_name": "Python 3",
   "language": "python",
   "name": "python3"
  },
  "language_info": {
   "codemirror_mode": {
    "name": "ipython",
    "version": 3
   },
   "file_extension": ".py",
   "mimetype": "text/x-python",
   "name": "python",
   "nbconvert_exporter": "python",
   "pygments_lexer": "ipython3",
   "version": "3.8.3"
  }
 },
 "nbformat": 4,
 "nbformat_minor": 1
}
